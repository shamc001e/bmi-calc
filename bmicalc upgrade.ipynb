{
 "cells": [
  {
   "cell_type": "code",
   "execution_count": null,
   "metadata": {},
   "outputs": [],
   "source": [
    "#                                      bmi calculator upgraded\n",
    "import pandas as pd\n",
    "height_all = []\n",
    "weight_all = []\n",
    "bmi_all = []\n",
    "bmi_c = []\n",
    "total_num = [0]\n",
    "\n",
    "height = float(input(\"enter height(in cm): \"))\n",
    "\n",
    "while height != -1:\n",
    "    h_m = height / 100\n",
    "    height_all.append(height)\n",
    "    weight = float(input(\"enter weight: \"))\n",
    "    weight_all.append(weight)\n",
    "    bmi = round(weight / (h_m * h_m), 2)\n",
    "    bmi_all.append(bmi)\n",
    "    \n",
    "    print(\"BMI is \", bmi)\n",
    "    if bmi < 18.5:\n",
    "        print(\"underweight\\n\")\n",
    "        bmi_c.append(\"underweight\")\n",
    "    elif bmi < 25:\n",
    "        print(\"healthy\\n\")\n",
    "        bmi_c.append(\"healthy\")\n",
    "    elif bmi < 30:\n",
    "        print(\"overweight\\n\")\n",
    "        bmi_c.append(\"overweight\")\n",
    "    elif bmi >= 30:\n",
    "        bmi_c.append(\"obese\")\n",
    "        if bmi < 35:\n",
    "            print(\"obese class 1\\n\")\n",
    "        elif bmi < 40:\n",
    "            print(\"obese class 2\\n\")\n",
    "        elif bmi >= 40:\n",
    "            print(\"obese class 3\\n\")\n",
    "        \n",
    "    total_num.append(total_num[-1] + 1)\n",
    "    height = int(input(\"enter height(-1 to stop): \"))\n",
    "    \n",
    "    \n",
    "del(total_num[0])\n",
    "dict_bmi = {\"height_cm\" : height_all,\n",
    "            \"weight_kg\" : weight_all,\n",
    "            \"BMI\" : bmi_all,\n",
    "            \"index\" : total_num,\n",
    "            \"bmi classification\" : bmi_c}\n",
    "bmi_df = pd.DataFrame(dict_bmi)\n",
    "bmidf_srt = bmi_df.sort_values(\"BMI\", ascending = True)\n",
    "bmidf_ind = bmidf_srt.set_index(\"index\")\n",
    "print(\"\\n\\n\")\n",
    "bmidf_srt.to_csv(\"bmi_calc.csv\")\n",
    "bmidf_ind"
   ]
  }
 ],
 "metadata": {
  "kernelspec": {
   "display_name": "Python 3",
   "language": "python",
   "name": "python3"
  },
  "language_info": {
   "codemirror_mode": {
    "name": "ipython",
    "version": 3
   },
   "file_extension": ".py",
   "mimetype": "text/x-python",
   "name": "python",
   "nbconvert_exporter": "python",
   "pygments_lexer": "ipython3",
   "version": "3.7.6"
  }
 },
 "nbformat": 4,
 "nbformat_minor": 4
}
